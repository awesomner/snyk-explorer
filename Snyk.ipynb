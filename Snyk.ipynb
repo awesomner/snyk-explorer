{
 "cells": [
  {
   "cell_type": "code",
   "execution_count": 1,
   "id": "974336ca",
   "metadata": {},
   "outputs": [],
   "source": [
    "import json\n",
    "import openai\n",
    "from bs4 import BeautifulSoup as bs\n",
    "import requests\n",
    "import config"
   ]
  },
  {
   "cell_type": "code",
   "execution_count": 2,
   "id": "f21da6b9",
   "metadata": {},
   "outputs": [],
   "source": [
    "# Reading the API key from a file\n",
    "service_key = config.api_key\n",
    "openai.api_key = service_key"
   ]
  },
  {
   "cell_type": "code",
   "execution_count": 3,
   "id": "e313cb73",
   "metadata": {},
   "outputs": [],
   "source": [
    "# Get the URL\n",
    "r =requests.get('https://snyk.io/advisor/npm-package/mocha')"
   ]
  },
  {
   "cell_type": "code",
   "execution_count": 4,
   "id": "5ad3c650",
   "metadata": {},
   "outputs": [],
   "source": [
    "# TODO: Parse the correct URL\n",
    "# with open(\"myresponse.html\") as fp:\n",
    "#     soup = bs(fp, \"html.parser\")\n",
    "soup = bs(r.text, \"html.parser\")"
   ]
  },
  {
   "cell_type": "code",
   "execution_count": 5,
   "id": "ecea9c8b",
   "metadata": {},
   "outputs": [],
   "source": [
    "# Parse the HTML for the data\n",
    "data_set = []\n",
    "for tag in soup.find_all('div', class_='number'):\n",
    "    data_set.append(tag.text)\n",
    "for tag in soup.find_all('ul', class_='scores'):\n",
    "    for ele in tag.find_all('li'):\n",
    "        data_set.append(ele.text)\n",
    "for tag in soup.find_all('dl', class_='stats'):\n",
    "    for ele in tag.find_all('div'):\n",
    "        text = ele.text.replace('\\n', '')\n",
    "        text = \" \".join(text.split())\n",
    "        data_set.append(text)"
   ]
  },
  {
   "cell_type": "code",
   "execution_count": 6,
   "id": "0d1495ca",
   "metadata": {},
   "outputs": [
    {
     "data": {
      "text/plain": [
       "['Package Health Score 95 / 100',\n",
       " 'Popularity Key ecosystem project',\n",
       " 'Maintenance Healthy',\n",
       " 'Security No known security issues',\n",
       " 'Community Active',\n",
       " 'Dependents 0',\n",
       " 'GitHub Stars 20.54K',\n",
       " 'Forks 2.83K',\n",
       " 'Contributors 430',\n",
       " 'Open Issues 245',\n",
       " 'Open PR 46',\n",
       " 'Last Release 23 days ago',\n",
       " 'Last Commit 2 days ago',\n",
       " 'Readme.md Yes',\n",
       " 'Contributing.md Yes',\n",
       " 'Code of Conduct Yes',\n",
       " 'Contributors 430',\n",
       " 'Funding Yes',\n",
       " 'Node.js Compatibility >= 10.12.0',\n",
       " 'Age 10 years',\n",
       " 'Dependencies 25 Direct',\n",
       " 'Versions 176',\n",
       " 'Install Size 3.07 MB',\n",
       " 'Dist-tags 3',\n",
       " '# of Files 75',\n",
       " 'Maintainers 4',\n",
       " 'TS Typings Yes']"
      ]
     },
     "execution_count": 6,
     "metadata": {},
     "output_type": "execute_result"
    }
   ],
   "source": [
    "data_set"
   ]
  },
  {
   "cell_type": "code",
   "execution_count": 7,
   "id": "be8f7c00",
   "metadata": {},
   "outputs": [],
   "source": [
    "# Create list of JSON objects\n",
    "list_of_jsons = []\n",
    "for line in data_set:\n",
    "    json_obj = {\"text\": line}\n",
    "    list_of_jsons.append(json_obj)"
   ]
  },
  {
   "cell_type": "code",
   "execution_count": 8,
   "id": "9b68f420",
   "metadata": {},
   "outputs": [],
   "source": [
    "# Create file with data\n",
    "with open('data.jsonl', 'w') as json_file:\n",
    "    for ele in list_of_jsons:\n",
    "        json.dump(ele, json_file)\n",
    "        json_file.write('\\n')"
   ]
  },
  {
   "cell_type": "code",
   "execution_count": 9,
   "id": "f6692f3e",
   "metadata": {
    "scrolled": true
   },
   "outputs": [
    {
     "name": "stderr",
     "output_type": "stream",
     "text": [
      "Upload progress: 100%|██████████| 1.08k/1.08k [00:00<00:00, 2.31kit/s]\n"
     ]
    },
    {
     "data": {
      "text/plain": [
       "<File file id=file-YRzdFPIHSLqyG0bAcu6FV1nh at 0x7f79be99dc20> JSON: {\n",
       "  \"bytes\": 836,\n",
       "  \"created_at\": 1622324016,\n",
       "  \"filename\": \"data.jsonl\",\n",
       "  \"id\": \"file-YRzdFPIHSLqyG0bAcu6FV1nh\",\n",
       "  \"object\": \"file\",\n",
       "  \"purpose\": \"answers\",\n",
       "  \"status\": \"uploaded\",\n",
       "  \"status_details\": null\n",
       "}"
      ]
     },
     "execution_count": 9,
     "metadata": {},
     "output_type": "execute_result"
    }
   ],
   "source": [
    "# Send file to openAI\n",
    "openai.File.create(file=open(\"data.jsonl\"), purpose='answers')"
   ]
  },
  {
   "cell_type": "code",
   "execution_count": 11,
   "id": "0afb27d1",
   "metadata": {},
   "outputs": [
    {
     "data": {
      "text/plain": [
       "<OpenAIObject answer at 0x7f79be93f4f0> JSON: {\n",
       "  \"answers\": [\n",
       "    \"Yes, you can.\"\n",
       "  ],\n",
       "  \"completion\": \"cmpl-350sVhuGzLDXyoPRRI9mHltHaA258\",\n",
       "  \"file\": \"file-YRzdFPIHSLqyG0bAcu6FV1nh\",\n",
       "  \"model\": \"curie:2020-05-03\",\n",
       "  \"object\": \"answer\",\n",
       "  \"search_model\": \"ada:2020-05-03\",\n",
       "  \"selected_documents\": [\n",
       "    {\n",
       "      \"document\": 0,\n",
       "      \"object\": \"search_result\",\n",
       "      \"score\": 56.659,\n",
       "      \"text\": \"Package Health Score 95 / 100\"\n",
       "    }\n",
       "  ]\n",
       "}"
      ]
     },
     "execution_count": 11,
     "metadata": {},
     "output_type": "execute_result"
    }
   ],
   "source": [
    "# Get an answer\n",
    "openai.Answer.create(\n",
    "    search_model=\"ada\", \n",
    "    model=\"curie\", \n",
    "    question=\"Can I build website with this package?\", \n",
    "    file=\"file-YRzdFPIHSLqyG0bAcu6FV1nh\", \n",
    "    examples_context=\"In 2017, U.S. life expectancy was 78.6 years.\", \n",
    "    examples=[[\"What is human life expectancy in the United States?\", \"78 years.\"]], \n",
    "    max_rerank=10,\n",
    "    max_tokens=5,\n",
    "    stop=[\"\\n\", \"<|endoftext|>\"]\n",
    ")"
   ]
  }
 ],
 "metadata": {
  "kernelspec": {
   "display_name": "Python 3",
   "language": "python",
   "name": "python3"
  },
  "language_info": {
   "codemirror_mode": {
    "name": "ipython",
    "version": 3
   },
   "file_extension": ".py",
   "mimetype": "text/x-python",
   "name": "python",
   "nbconvert_exporter": "python",
   "pygments_lexer": "ipython3",
   "version": "3.9.5"
  }
 },
 "nbformat": 4,
 "nbformat_minor": 5
}
