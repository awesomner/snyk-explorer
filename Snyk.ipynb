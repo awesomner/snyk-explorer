{
 "cells": [
  {
   "cell_type": "code",
   "execution_count": 1,
   "id": "974336ca",
   "metadata": {},
   "outputs": [],
   "source": [
    "import json\n",
    "import openai\n",
    "from bs4 import BeautifulSoup as bs\n",
    "import requests\n",
    "import config"
   ]
  },
  {
   "cell_type": "code",
   "execution_count": 2,
   "id": "f21da6b9",
   "metadata": {},
   "outputs": [],
   "source": [
    "# Reading the API key from a file\n",
    "service_key = config.api_key\n",
    "openai.api_key = service_key"
   ]
  },
  {
   "cell_type": "code",
   "execution_count": 3,
   "id": "9f5b446b",
   "metadata": {},
   "outputs": [],
   "source": [
    "# PACKAGE NAME\n",
    "pkg_name = \"react\""
   ]
  },
  {
   "cell_type": "code",
   "execution_count": 4,
   "id": "e313cb73",
   "metadata": {},
   "outputs": [],
   "source": [
    "# Get the URL\n",
    "URL = 'https://snyk.io/advisor/npm-package/' + pkg_name\n",
    "URL_dep = URL + '#dependencies'\n",
    "r =requests.get(URL)\n",
    "r_dep =requests.get(URL_dep)"
   ]
  },
  {
   "cell_type": "code",
   "execution_count": 5,
   "id": "5ad3c650",
   "metadata": {},
   "outputs": [],
   "source": [
    "# TODO: Parse the correct URL\n",
    "# with open(\"myresponse.html\") as fp:\n",
    "#     soup = bs(fp, \"html.parser\")\n",
    "soup = bs(r.text, \"html.parser\")\n",
    "soup_dep = bs(r_dep.text, \"html.parser\")"
   ]
  },
  {
   "cell_type": "code",
   "execution_count": 6,
   "id": "ecea9c8b",
   "metadata": {},
   "outputs": [],
   "source": [
    "# Parse the HTML for the data\n",
    "data_set = []\n",
    "dependencies = ['List of package dependencies']\n",
    "for tag in soup.find_all('div', class_='number'):\n",
    "    data_set.append(tag.text)\n",
    "for tag in soup.find_all('ul', class_='scores'):\n",
    "    for ele in tag.find_all('li'):\n",
    "        data_set.append(ele.text)\n",
    "for tag in soup.find_all('dl', class_='stats'):\n",
    "    for ele in tag.find_all('div'):\n",
    "        text = ele.text.replace('\\n', '')\n",
    "        text = \" \".join(text.split())\n",
    "        data_set.append(text)\n",
    "# Dependencies\n",
    "for tag in soup_dep.find_all('div', {'id': 'dependencies'}):\n",
    "    for ele in tag.find_all('a'):\n",
    "#         print(ele.text)\n",
    "        dependencies.append(ele.text)"
   ]
  },
  {
   "cell_type": "code",
   "execution_count": 7,
   "id": "0d1495ca",
   "metadata": {},
   "outputs": [],
   "source": [
    "# data_set"
   ]
  },
  {
   "cell_type": "code",
   "execution_count": 8,
   "id": "be8f7c00",
   "metadata": {},
   "outputs": [],
   "source": [
    "# Create list of JSON objects\n",
    "list_of_jsons = []\n",
    "for line in data_set:\n",
    "    json_obj = {\"text\": line}\n",
    "    list_of_jsons.append(json_obj)\n",
    "dep = \", \".join(dependencies)\n",
    "dep_obj = [{'text' : dep, \"metadata\": \"list of package dependencies\"}]"
   ]
  },
  {
   "cell_type": "code",
   "execution_count": 9,
   "id": "9b68f420",
   "metadata": {},
   "outputs": [],
   "source": [
    "# Create file with data\n",
    "with open('data.jsonl', 'w') as json_file:\n",
    "    for ele in list_of_jsons:\n",
    "        json.dump(ele, json_file)\n",
    "        json_file.write('\\n')\n",
    "    for ele in dep_obj:\n",
    "        json.dump(ele, json_file)\n",
    "        json_file.write('\\n')"
   ]
  },
  {
   "cell_type": "code",
   "execution_count": 10,
   "id": "f6692f3e",
   "metadata": {
    "scrolled": true
   },
   "outputs": [
    {
     "name": "stderr",
     "output_type": "stream",
     "text": [
      "Upload progress: 100%|██████████| 1.20k/1.20k [00:00<00:00, 2.56kit/s]\n"
     ]
    },
    {
     "data": {
      "text/plain": [
       "'file-Kq2B97nrlC1X12sWb3Oxjhoy'"
      ]
     },
     "execution_count": 10,
     "metadata": {},
     "output_type": "execute_result"
    }
   ],
   "source": [
    "# Send file to openAI\n",
    "file = openai.File.create(file=open(\"data.jsonl\"), purpose='answers')\n",
    "file_id = file['id']\n",
    "file_id"
   ]
  },
  {
   "cell_type": "code",
   "execution_count": 32,
   "id": "ce42a125",
   "metadata": {},
   "outputs": [],
   "source": [
    "# QUESTION:\n",
    "q = 'How many dependencies?'"
   ]
  },
  {
   "cell_type": "code",
   "execution_count": 33,
   "id": "0afb27d1",
   "metadata": {},
   "outputs": [],
   "source": [
    "# Get an answer\n",
    "answer = openai.Answer.create(\n",
    "    search_model=\"ada\", \n",
    "    model=\"curie\", \n",
    "    question=q, \n",
    "    file=file_id, \n",
    "    examples_context=\"In 2017, U.S. life expectancy was 78.6 years.\", \n",
    "    examples=[[\"What is human life expectancy in the United States?\", \"78 years.\"]], \n",
    "    max_rerank=10,\n",
    "    max_tokens=5,\n",
    "    stop=[\"\\n\", \"<|endoftext|>\"]\n",
    ")"
   ]
  },
  {
   "cell_type": "code",
   "execution_count": 34,
   "id": "2f27143c",
   "metadata": {},
   "outputs": [
    {
     "name": "stdout",
     "output_type": "stream",
     "text": [
      "Q: How many dependencies?\n",
      "A: 2.\n"
     ]
    }
   ],
   "source": [
    "ans = \"\".join(answer['answers'])\n",
    "print(f\"Q: {q}\\nA: {ans}\")"
   ]
  }
 ],
 "metadata": {
  "kernelspec": {
   "display_name": "Python 3",
   "language": "python",
   "name": "python3"
  },
  "language_info": {
   "codemirror_mode": {
    "name": "ipython",
    "version": 3
   },
   "file_extension": ".py",
   "mimetype": "text/x-python",
   "name": "python",
   "nbconvert_exporter": "python",
   "pygments_lexer": "ipython3",
   "version": "3.9.5"
  }
 },
 "nbformat": 4,
 "nbformat_minor": 5
}
